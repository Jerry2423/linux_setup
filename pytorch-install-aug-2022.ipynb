{
 "cells": [
  {
   "cell_type": "markdown",
   "metadata": {},
   "source": [
    "<a href=\"https://colab.research.google.com/github/jeffheaton/t81_558_deep_learning/blob/master/manual_setup.ipynb\" target=\"_parent\"><img src=\"https://colab.research.google.com/assets/colab-badge.svg\" alt=\"Open In Colab\"/></a>"
   ]
  },
  {
   "cell_type": "markdown",
   "metadata": {},
   "source": [
    "# Environment Setup for ML on Ubuntu\n",
    "\n",
    "\n",
    "## CUDA Setup\n",
    "\n",
    "- Shortcut: Choose CUDA *runfile* option on CUDA [download page](https://developer.nvidia.com/cuda-downloads). Run the `.run` file. If error occurs, check the `.log` file. For example, maybe instaling driver fails, then run the `.run` file again, do not select the driver option, just remember the driver version. After that, install the correponding corresponding driver by `sudo apt-get install cuda-drivers-<branch>`. For instance: `sudo apt-get install cuda-drivers-418` \n",
    "\n",
    "- [Youtube Video](https://www.youtube.com/watch?v=ttxtV966jyQ&ab_channel=AleksaGordi%C4%87-TheAIEpiphany)\n",
    "\n",
    "- [NVIDA Document](https://docs.nvidia.com/cuda/cuda-installation-guide-linux/index.html#): *2. Pre-installation Actions*, *3. Package Manager Installation* and *13. Post-installation Actions*\n",
    "\n",
    "- Remove Ogriginal CUDA before Setting up: check out NVIDA document settion *18. Removing CUDA Toolkit and Driver*\n",
    "\n",
    "## Conda Virtual Envoronment Setup\n",
    "\n",
    "- Tip: use *miniconda* instead of *anaconda* because the former is faster.\n",
    "\n",
    "- [Youtube Jeff Heaton](https://www.youtube.com/watch?v=VEDy-c5Sk8Y&ab_channel=JeffHeaton)\n",
    "\n",
    "- [Github Repo from Jeff](https://github.com/jeffheaton/t81_558_deep_learning/blob/pytorch/install/pytorch-install-aug-2022.ipynb): clone `.ysml` environment configuration file before starting \n",
    "\n",
    "- [Conda Solver](https://www.anaconda.com/blog/a-faster-conda-for-a-growing-community): Conda Environment Speed Up\n",
    "\n",
    "- Conda environment activate and deactivate: \n",
    "\n",
    "```bash\n",
    "# Activate env\n",
    "$ conda activate env_name\n",
    "# Deactivate env\n",
    "$ conda deactivate\n",
    "```\n",
    "\n",
    "\n",
    "## Check Pytorch GPU\n",
    "\n",
    "[How do I check if PyTorch is using the GPU?](https://stackoverflow.com/questions/48152674/how-do-i-check-if-pytorch-is-using-the-gpu)"
   ]
  },
  {
   "cell_type": "markdown",
   "metadata": {},
   "source": [
    "# T81-558: Applications of Deep Neural Networks\n",
    "**Manual Python Setup**\n",
    "* Instructor: [Jeff Heaton](https://sites.wustl.edu/jeffheaton/), McKelvey School of Engineering, [Washington University in St. Louis](https://engineering.wustl.edu/Programs/Pages/default.aspx)\n",
    "* For more information visit the [class website](https://sites.wustl.edu/jeffheaton/t81-558/)."
   ]
  },
  {
   "cell_type": "markdown",
   "metadata": {},
   "source": [
    "# Software Installation\n",
    "\n",
    "This notebook described how to install PyTorch for GPU (cuda), Apple Metal (MLS), or CPU.\n",
    "\n",
    "## Installing Python and PyTorch\n",
    "\n",
    "It is possible to install and run Python/PyTorch entirely from your computer, without the need for Google CoLab. Running PyTorch locally does require some software configuration and installation.  If you are not confortable with software installation, just use Google CoLab.  These instructions show you how to install PyTorch for CPU, GPU (cuda), and Apple M1/M2/Mx Metal Performance Shaders (MPS). Many of the examples in this class will achieve considerable performance improvement from a GPU/MPS.\n",
    "\n",
    "The first step is to install Python 3.9.  I recommend using the Miniconda (Anaconda) release of Python, as it already includes many of the data science related packages that are needed by this class.  Anaconda directly supports Windows, Mac, and Linux. If you have a Mac and wish to use M1 MPS make sure to install the ARM64 version of Miniconda.  Miniconda is the minimal set of features from the extensive Anaconda Python distribution.  Download Miniconda from the following URL:\n",
    "\n",
    "* [Miniconda](https://docs.conda.io/en/latest/miniconda.html)\n",
    "\n",
    "Make sure that you select the Miniconda version that corrisponds to your operating system. It is particularly important to choose M1/Metal if you have a later (non-Intel) Mac.\n",
    "\n",
    "Once you've installed Miniconda, we will first install Jupyter, which is the editor you will use in this course.\n",
    "\n",
    "```\n",
    "conda install -y jupyter\n",
    "```\n",
    "\n",
    "You must make sure that PyTorch has the version of Python that it is compatible with.  The best way to accomplish this is with an Anaconda environment.  Each environment that you create can have its own Python version, drivers, and Python libraries.  I suggest that you create an environment to hold the Python instance for this class.  Use the following command to create your environment. I am calling the environment **torch**, you can name yours whatever you like. We will create this environment from a YML configuration file. You should select from one of the following commands:\n",
    "\n",
    "\n",
    "* **Mac M1**: conda env create -f torch-conda-nightly.yml -n torch\n",
    "* **NVIDIA CUDA GPU**: conda env create -f torch-cuda.yml -n torch\n",
    "* **CPU Only**: conda env create -f torch.yml -n torch\n",
    "\n",
    "To enter this environment, you must use the following command: \n",
    "\n",
    "```\n",
    "conda activate torch\n",
    "```\n",
    "\n",
    "\n",
    "## Register your Environment\n",
    "\n",
    "The following command registers your **pytorch** environment. Again, make sure you \"conda activate\" your new **pytorch** environment.\n",
    "\n",
    "```\n",
    "python -m ipykernel install --user --name pytorch --display-name \"Python 3.9 (pytorch)\"\n",
    "```\n",
    "\n",
    "## Testing your Environment\n",
    "\n",
    "You can now start Jupyter notebook.  Use the following command.\n",
    "\n",
    "```\n",
    "jupyter notebook\n",
    "```\n",
    "\n",
    "You can now run the following code to check that you have the versions expected."
   ]
  },
  {
   "cell_type": "code",
   "execution_count": 1,
   "metadata": {},
   "outputs": [
    {
     "name": "stdout",
     "output_type": "stream",
     "text": [
      "Python Platform: Linux-6.2.0-26-generic-x86_64-with-glibc2.35\n",
      "PyTorch Version: 2.0.0.post200\n",
      "\n",
      "Python 3.11.4 | packaged by conda-forge | (main, Jun 10 2023, 18:08:17) [GCC 12.2.0]\n",
      "Pandas 2.0.3\n",
      "Scikit-Learn 1.3.0\n",
      "GPU is available\n",
      "MPS (Apple Metal) is NOT AVAILABLE\n",
      "Target device is gpu\n"
     ]
    }
   ],
   "source": [
    "# What version of Python do you have?\n",
    "import sys\n",
    "import platform\n",
    "import torch\n",
    "import pandas as pd\n",
    "import sklearn as sk\n",
    "\n",
    "has_gpu = torch.cuda.is_available()\n",
    "has_mps = getattr(torch,'has_mps',False)\n",
    "device = \"mps\" if getattr(torch,'has_mps',False) \\\n",
    "    else \"gpu\" if torch.cuda.is_available() else \"cpu\"\n",
    "\n",
    "print(f\"Python Platform: {platform.platform()}\")\n",
    "print(f\"PyTorch Version: {torch.__version__}\")\n",
    "print()\n",
    "print(f\"Python {sys.version}\")\n",
    "print(f\"Pandas {pd.__version__}\")\n",
    "print(f\"Scikit-Learn {sk.__version__}\")\n",
    "print(\"GPU is\", \"available\" if has_gpu else \"NOT AVAILABLE\")\n",
    "print(\"MPS (Apple Metal) is\", \"AVAILABLE\" if has_mps else \"NOT AVAILABLE\")\n",
    "print(f\"Target device is {device}\")"
   ]
  },
  {
   "cell_type": "code",
   "execution_count": 3,
   "metadata": {},
   "outputs": [
    {
     "name": "stdout",
     "output_type": "stream",
     "text": [
      "zsh:1: command not found: nvida-smi\n"
     ]
    }
   ],
   "source": [
    "!nvida-smi"
   ]
  }
 ],
 "metadata": {
  "anaconda-cloud": {},
  "kernelspec": {
   "display_name": "Python 3 (ipykernel)",
   "language": "python",
   "name": "python3"
  },
  "language_info": {
   "codemirror_mode": {
    "name": "ipython",
    "version": 3
   },
   "file_extension": ".py",
   "mimetype": "text/x-python",
   "name": "python",
   "nbconvert_exporter": "python",
   "pygments_lexer": "ipython3",
   "version": "3.11.4"
  }
 },
 "nbformat": 4,
 "nbformat_minor": 4
}
